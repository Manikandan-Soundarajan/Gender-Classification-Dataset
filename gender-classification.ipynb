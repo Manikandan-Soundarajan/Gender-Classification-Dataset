{
 "cells": [
  {
   "cell_type": "markdown",
   "metadata": {
    "id": "SdQcf-JqjBn1",
    "papermill": {
     "duration": 0.03984,
     "end_time": "2021-04-05T22:20:48.957532",
     "exception": false,
     "start_time": "2021-04-05T22:20:48.917692",
     "status": "completed"
    },
    "tags": []
   },
   "source": [
    "# General information\n",
    "\n",
    "In this dataset we have 5000 people (male/female) , 2500 males and 2501 females , that means our dataset is free from bias .\n",
    "\n",
    "we have 7 features in this dataset are :\n",
    "\n",
    "\n",
    "\n",
    "1.   long_hair : it will take 1 if he/she have a long hair or 0 if he/she haven't\n",
    "2.   forehead_width_cm : forehead width in cm\n",
    "3.   forehead_height_cm : forehead height in cm\n",
    "4.   nose_long : it will take 1 if he/she have a long nose or 0 if he/she haven't\n",
    "5.   nose_wide : it will take 1 if he/she have a wide nose or 0 if he/she haven't\n",
    "6.   lips_thin : it will take 1 if he/she have a thin lips or 0 if he/she haven't\n",
    "7.   distance_nose_to_lip_long : it will take 1 if there is a long distance between lips and nose or 0 if there isn't this long distance between them\n",
    "\n",
    "\n",
    "\n"
   ]
  },
  {
   "cell_type": "markdown",
   "metadata": {
    "id": "MGYjF5V4opKk",
    "papermill": {
     "duration": 0.036795,
     "end_time": "2021-04-05T22:20:49.032366",
     "exception": false,
     "start_time": "2021-04-05T22:20:48.995571",
     "status": "completed"
    },
    "tags": []
   },
   "source": [
    "#Data analysis"
   ]
  },
  {
   "cell_type": "markdown",
   "metadata": {
    "id": "6KuGvBSpmZwd",
    "papermill": {
     "duration": 0.037985,
     "end_time": "2021-04-05T22:20:49.108215",
     "exception": false,
     "start_time": "2021-04-05T22:20:49.070230",
     "status": "completed"
    },
    "tags": []
   },
   "source": [
    "Now , we're going to take a look at each gender and their relations with the properties , first let's take **Males** then **Females** .\n",
    "\n",
    "I'll import three libraries for data analysis and visualisation . "
   ]
  },
  {
   "cell_type": "code",
   "execution_count": 1,
   "metadata": {
    "execution": {
     "iopub.execute_input": "2021-04-05T22:20:49.191255Z",
     "iopub.status.busy": "2021-04-05T22:20:49.190556Z",
     "iopub.status.idle": "2021-04-05T22:20:50.383473Z",
     "shell.execute_reply": "2021-04-05T22:20:50.382269Z"
    },
    "id": "Pv_qlN92rTGo",
    "papermill": {
     "duration": 1.237319,
     "end_time": "2021-04-05T22:20:50.383656",
     "exception": false,
     "start_time": "2021-04-05T22:20:49.146337",
     "status": "completed"
    },
    "tags": []
   },
   "outputs": [],
   "source": [
    "import pandas as pd # for data analysis\n",
    "import matplotlib.pyplot as plt # data visualisation\n",
    "import seaborn as sns # data visualisation\n",
    "%matplotlib inline"
   ]
  },
  {
   "cell_type": "markdown",
   "metadata": {
    "id": "O7obNDB7ntf0",
    "papermill": {
     "duration": 0.03654,
     "end_time": "2021-04-05T22:20:50.457768",
     "exception": false,
     "start_time": "2021-04-05T22:20:50.421228",
     "status": "completed"
    },
    "tags": []
   },
   "source": [
    "Now I'm going to read data from the csv file and disply the first 10 rows from this file ."
   ]
  },
  {
   "cell_type": "code",
   "execution_count": 3,
   "metadata": {
    "execution": {
     "iopub.execute_input": "2021-04-05T22:20:50.537939Z",
     "iopub.status.busy": "2021-04-05T22:20:50.537227Z",
     "iopub.status.idle": "2021-04-05T22:20:50.573102Z",
     "shell.execute_reply": "2021-04-05T22:20:50.572296Z"
    },
    "id": "C7HZ4H-LC9Um",
    "papermill": {
     "duration": 0.078427,
     "end_time": "2021-04-05T22:20:50.573261",
     "exception": false,
     "start_time": "2021-04-05T22:20:50.494834",
     "status": "completed"
    },
    "tags": []
   },
   "outputs": [],
   "source": [
    "df = pd.read_csv(\"gender_classification_v7.csv\") # read csv files"
   ]
  },
  {
   "cell_type": "code",
   "execution_count": 4,
   "metadata": {
    "execution": {
     "iopub.execute_input": "2021-04-05T22:20:50.661228Z",
     "iopub.status.busy": "2021-04-05T22:20:50.659726Z",
     "iopub.status.idle": "2021-04-05T22:20:50.687217Z",
     "shell.execute_reply": "2021-04-05T22:20:50.686636Z"
    },
    "id": "cDGmf7feDB0J",
    "outputId": "3dfc4552-e9b7-4b76-adab-f32785c51d19",
    "papermill": {
     "duration": 0.076811,
     "end_time": "2021-04-05T22:20:50.687375",
     "exception": false,
     "start_time": "2021-04-05T22:20:50.610564",
     "status": "completed"
    },
    "tags": []
   },
   "outputs": [
    {
     "data": {
      "text/html": [
       "<div>\n",
       "<style scoped>\n",
       "    .dataframe tbody tr th:only-of-type {\n",
       "        vertical-align: middle;\n",
       "    }\n",
       "\n",
       "    .dataframe tbody tr th {\n",
       "        vertical-align: top;\n",
       "    }\n",
       "\n",
       "    .dataframe thead th {\n",
       "        text-align: right;\n",
       "    }\n",
       "</style>\n",
       "<table border=\"1\" class=\"dataframe\">\n",
       "  <thead>\n",
       "    <tr style=\"text-align: right;\">\n",
       "      <th></th>\n",
       "      <th>long_hair</th>\n",
       "      <th>forehead_width_cm</th>\n",
       "      <th>forehead_height_cm</th>\n",
       "      <th>nose_wide</th>\n",
       "      <th>nose_long</th>\n",
       "      <th>lips_thin</th>\n",
       "      <th>distance_nose_to_lip_long</th>\n",
       "      <th>gender</th>\n",
       "    </tr>\n",
       "  </thead>\n",
       "  <tbody>\n",
       "    <tr>\n",
       "      <th>0</th>\n",
       "      <td>1</td>\n",
       "      <td>11.8</td>\n",
       "      <td>6.1</td>\n",
       "      <td>1</td>\n",
       "      <td>0</td>\n",
       "      <td>1</td>\n",
       "      <td>1</td>\n",
       "      <td>Male</td>\n",
       "    </tr>\n",
       "    <tr>\n",
       "      <th>1</th>\n",
       "      <td>0</td>\n",
       "      <td>14.0</td>\n",
       "      <td>5.4</td>\n",
       "      <td>0</td>\n",
       "      <td>0</td>\n",
       "      <td>1</td>\n",
       "      <td>0</td>\n",
       "      <td>Female</td>\n",
       "    </tr>\n",
       "    <tr>\n",
       "      <th>2</th>\n",
       "      <td>0</td>\n",
       "      <td>11.8</td>\n",
       "      <td>6.3</td>\n",
       "      <td>1</td>\n",
       "      <td>1</td>\n",
       "      <td>1</td>\n",
       "      <td>1</td>\n",
       "      <td>Male</td>\n",
       "    </tr>\n",
       "    <tr>\n",
       "      <th>3</th>\n",
       "      <td>0</td>\n",
       "      <td>14.4</td>\n",
       "      <td>6.1</td>\n",
       "      <td>0</td>\n",
       "      <td>1</td>\n",
       "      <td>1</td>\n",
       "      <td>1</td>\n",
       "      <td>Male</td>\n",
       "    </tr>\n",
       "    <tr>\n",
       "      <th>4</th>\n",
       "      <td>1</td>\n",
       "      <td>13.5</td>\n",
       "      <td>5.9</td>\n",
       "      <td>0</td>\n",
       "      <td>0</td>\n",
       "      <td>0</td>\n",
       "      <td>0</td>\n",
       "      <td>Female</td>\n",
       "    </tr>\n",
       "    <tr>\n",
       "      <th>5</th>\n",
       "      <td>1</td>\n",
       "      <td>13.0</td>\n",
       "      <td>6.8</td>\n",
       "      <td>1</td>\n",
       "      <td>1</td>\n",
       "      <td>1</td>\n",
       "      <td>1</td>\n",
       "      <td>Male</td>\n",
       "    </tr>\n",
       "    <tr>\n",
       "      <th>6</th>\n",
       "      <td>1</td>\n",
       "      <td>15.3</td>\n",
       "      <td>6.2</td>\n",
       "      <td>1</td>\n",
       "      <td>1</td>\n",
       "      <td>1</td>\n",
       "      <td>0</td>\n",
       "      <td>Male</td>\n",
       "    </tr>\n",
       "    <tr>\n",
       "      <th>7</th>\n",
       "      <td>0</td>\n",
       "      <td>13.0</td>\n",
       "      <td>5.2</td>\n",
       "      <td>0</td>\n",
       "      <td>0</td>\n",
       "      <td>0</td>\n",
       "      <td>0</td>\n",
       "      <td>Female</td>\n",
       "    </tr>\n",
       "    <tr>\n",
       "      <th>8</th>\n",
       "      <td>1</td>\n",
       "      <td>11.9</td>\n",
       "      <td>5.4</td>\n",
       "      <td>1</td>\n",
       "      <td>0</td>\n",
       "      <td>1</td>\n",
       "      <td>1</td>\n",
       "      <td>Female</td>\n",
       "    </tr>\n",
       "    <tr>\n",
       "      <th>9</th>\n",
       "      <td>1</td>\n",
       "      <td>12.1</td>\n",
       "      <td>5.4</td>\n",
       "      <td>0</td>\n",
       "      <td>0</td>\n",
       "      <td>0</td>\n",
       "      <td>0</td>\n",
       "      <td>Female</td>\n",
       "    </tr>\n",
       "  </tbody>\n",
       "</table>\n",
       "</div>"
      ],
      "text/plain": [
       "   long_hair  forehead_width_cm  forehead_height_cm  nose_wide  nose_long  \\\n",
       "0          1               11.8                 6.1          1          0   \n",
       "1          0               14.0                 5.4          0          0   \n",
       "2          0               11.8                 6.3          1          1   \n",
       "3          0               14.4                 6.1          0          1   \n",
       "4          1               13.5                 5.9          0          0   \n",
       "5          1               13.0                 6.8          1          1   \n",
       "6          1               15.3                 6.2          1          1   \n",
       "7          0               13.0                 5.2          0          0   \n",
       "8          1               11.9                 5.4          1          0   \n",
       "9          1               12.1                 5.4          0          0   \n",
       "\n",
       "   lips_thin  distance_nose_to_lip_long  gender  \n",
       "0          1                          1    Male  \n",
       "1          1                          0  Female  \n",
       "2          1                          1    Male  \n",
       "3          1                          1    Male  \n",
       "4          0                          0  Female  \n",
       "5          1                          1    Male  \n",
       "6          1                          0    Male  \n",
       "7          0                          0  Female  \n",
       "8          1                          1  Female  \n",
       "9          0                          0  Female  "
      ]
     },
     "execution_count": 4,
     "metadata": {},
     "output_type": "execute_result"
    }
   ],
   "source": [
    "df.head(10) # read the frist 10 rows "
   ]
  },
  {
   "cell_type": "markdown",
   "metadata": {
    "id": "CyHDMEj-oDNW",
    "papermill": {
     "duration": 0.038747,
     "end_time": "2021-04-05T22:20:50.764686",
     "exception": false,
     "start_time": "2021-04-05T22:20:50.725939",
     "status": "completed"
    },
    "tags": []
   },
   "source": [
    "The Two cells below to be sure that **we have 2500 males and 2501 females** ."
   ]
  },
  {
   "cell_type": "code",
   "execution_count": 5,
   "metadata": {
    "execution": {
     "iopub.execute_input": "2021-04-05T22:20:50.851199Z",
     "iopub.status.busy": "2021-04-05T22:20:50.850027Z",
     "iopub.status.idle": "2021-04-05T22:20:50.854230Z",
     "shell.execute_reply": "2021-04-05T22:20:50.853536Z"
    },
    "id": "xAUadTaEDFod",
    "papermill": {
     "duration": 0.050735,
     "end_time": "2021-04-05T22:20:50.854395",
     "exception": false,
     "start_time": "2021-04-05T22:20:50.803660",
     "status": "completed"
    },
    "tags": []
   },
   "outputs": [],
   "source": [
    "males = 0 \n",
    "females = 0\n",
    "for x in df['gender']:\n",
    "  if x == \"Male\":\n",
    "    males = males + 1\n",
    "  elif x == \"Female\":\n",
    "    females = females + 1 "
   ]
  },
  {
   "cell_type": "code",
   "execution_count": 6,
   "metadata": {
    "execution": {
     "iopub.execute_input": "2021-04-05T22:20:50.941653Z",
     "iopub.status.busy": "2021-04-05T22:20:50.940478Z",
     "iopub.status.idle": "2021-04-05T22:20:50.945205Z",
     "shell.execute_reply": "2021-04-05T22:20:50.944632Z"
    },
    "id": "a7OXuHPQDyHZ",
    "outputId": "97ab1396-a5f8-4cc4-94e5-ea2c4eceeb79",
    "papermill": {
     "duration": 0.051322,
     "end_time": "2021-04-05T22:20:50.945357",
     "exception": false,
     "start_time": "2021-04-05T22:20:50.894035",
     "status": "completed"
    },
    "tags": []
   },
   "outputs": [
    {
     "name": "stdout",
     "output_type": "stream",
     "text": [
      "Male number is:  2500\n",
      "Female number is:  2501\n"
     ]
    }
   ],
   "source": [
    "print(\"Male number is: \" , males)\n",
    "print(\"Female number is: \" , females)"
   ]
  },
  {
   "cell_type": "code",
   "execution_count": 7,
   "metadata": {
    "execution": {
     "iopub.execute_input": "2021-04-05T22:20:51.044616Z",
     "iopub.status.busy": "2021-04-05T22:20:51.043861Z",
     "iopub.status.idle": "2021-04-05T22:20:51.194968Z",
     "shell.execute_reply": "2021-04-05T22:20:51.194298Z"
    },
    "id": "PYjkCwJqD8ms",
    "outputId": "4af70441-3185-4e62-d84f-97083ff4ce0c",
    "papermill": {
     "duration": 0.211,
     "end_time": "2021-04-05T22:20:51.195143",
     "exception": false,
     "start_time": "2021-04-05T22:20:50.984143",
     "status": "completed"
    },
    "tags": []
   },
   "outputs": [
    {
     "data": {
      "text/plain": [
       "(array([2500.,    0.,    0.,    0.,    0.,    0.,    0.,    0.,    0.,\n",
       "        2501.]),\n",
       " array([0. , 0.1, 0.2, 0.3, 0.4, 0.5, 0.6, 0.7, 0.8, 0.9, 1. ]),\n",
       " <BarContainer object of 10 artists>)"
      ]
     },
     "execution_count": 7,
     "metadata": {},
     "output_type": "execute_result"
    },
    {
     "data": {
      "image/png": "[encoded data removed]",
      "text/plain": [
       "<Figure size 432x288 with 1 Axes>"
      ]
     },
     "metadata": {
      "needs_background": "light"
     },
     "output_type": "display_data"
    }
   ],
   "source": [
    "plt.hist(df['gender'])"
   ]
  },
  {
   "cell_type": "markdown",
   "metadata": {
    "id": "bhDA9qIHo8El",
    "papermill": {
     "duration": 0.040531,
     "end_time": "2021-04-05T22:20:51.276768",
     "exception": false,
     "start_time": "2021-04-05T22:20:51.236237",
     "status": "completed"
    },
    "tags": []
   },
   "source": [
    "after we be sure about how many **males** and **females** that we have , now we're going to take a look on **males and properties relations** ."
   ]
  },
  {
   "cell_type": "markdown",
   "metadata": {
    "id": "VlNjTaDlpTRL",
    "papermill": {
     "duration": 0.040486,
     "end_time": "2021-04-05T22:20:51.357706",
     "exception": false,
     "start_time": "2021-04-05T22:20:51.317220",
     "status": "completed"
    },
    "tags": []
   },
   "source": [
    "#Males "
   ]
  },
  {
   "cell_type": "markdown",
   "metadata": {
    "id": "EVkkgQuCpZi5",
    "papermill": {
     "duration": 0.041773,
     "end_time": "2021-04-05T22:20:51.441016",
     "exception": false,
     "start_time": "2021-04-05T22:20:51.399243",
     "status": "completed"
    },
    "tags": []
   },
   "source": [
    "## 1 - forehead_width_cm\n",
    "\n",
    "male's forehead width is between 11.5 cm and 15.5 cm and the mean for the forehead width is 13.5 cm . (look to the describe below)\n",
    "\n",
    "And most of male's forehead width is 15.5 cm . ( look to the histogram below)"
   ]
  },
  {
   "cell_type": "code",
   "execution_count": 8,
   "metadata": {
    "execution": {
     "iopub.execute_input": "2021-04-05T22:20:51.530566Z",
     "iopub.status.busy": "2021-04-05T22:20:51.529825Z",
     "iopub.status.idle": "2021-04-05T22:20:51.763917Z",
     "shell.execute_reply": "2021-04-05T22:20:51.764433Z"
    },
    "id": "rOmw1NGdmtx9",
    "outputId": "a3bcd21a-cf0b-447b-f135-7a2a1b101265",
    "papermill": {
     "duration": 0.282415,
     "end_time": "2021-04-05T22:20:51.764624",
     "exception": false,
     "start_time": "2021-04-05T22:20:51.482209",
     "status": "completed"
    },
    "tags": []
   },
   "outputs": [
    {
     "data": {
      "text/plain": [
       "Text(0.5, 1.0, 'Males forehead width cm')"
      ]
     },
     "execution_count": 8,
     "metadata": {},
     "output_type": "execute_result"
    },
    {
     "data": {
      "image/png": "[encoded data removed]",
      "text/plain": [
       "<Figure size 432x288 with 1 Axes>"
      ]
     },
     "metadata": {
      "needs_background": "light"
     },
     "output_type": "display_data"
    }
   ],
   "source": [
    "males = df.query(\" gender == 'Male' \")\n",
    "sns.histplot(data = males , x = 'forehead_width_cm')\n",
    "plt.title(\"Males forehead width cm\")"
   ]
  },
  {
   "cell_type": "code",
   "execution_count": 9,
   "metadata": {
    "execution": {
     "iopub.execute_input": "2021-04-05T22:20:51.856007Z",
     "iopub.status.busy": "2021-04-05T22:20:51.852609Z",
     "iopub.status.idle": "2021-04-05T22:20:51.860700Z",
     "shell.execute_reply": "2021-04-05T22:20:51.860011Z"
    },
    "papermill": {
     "duration": 0.05542,
     "end_time": "2021-04-05T22:20:51.860847",
     "exception": false,
     "start_time": "2021-04-05T22:20:51.805427",
     "status": "completed"
    },
    "tags": []
   },
   "outputs": [
    {
     "data": {
      "text/plain": [
       "count    2500.000000\n",
       "mean       13.551440\n",
       "std         1.187325\n",
       "min        11.500000\n",
       "25%        12.500000\n",
       "50%        13.600000\n",
       "75%        14.600000\n",
       "max        15.500000\n",
       "Name: forehead_width_cm, dtype: float64"
      ]
     },
     "execution_count": 9,
     "metadata": {},
     "output_type": "execute_result"
    }
   ],
   "source": [
    "males['forehead_width_cm'].describe()"
   ]
  },
  {
   "cell_type": "markdown",
   "metadata": {
    "id": "54Asq7KCqNhe",
    "papermill": {
     "duration": 0.040742,
     "end_time": "2021-04-05T22:20:51.942909",
     "exception": false,
     "start_time": "2021-04-05T22:20:51.902167",
     "status": "completed"
    },
    "tags": []
   },
   "source": [
    "## 2 - forehead_height_cm\n",
    "\n",
    "It's between 6cm and 7cm and the mean is 5.6 . ( look to the describe below )\n",
    "\n",
    "And as you see in the histogram below the forehead height doesn't have a regular draw that can helps us to take information from it ."
   ]
  },
  {
   "cell_type": "code",
   "execution_count": 10,
   "metadata": {
    "execution": {
     "iopub.execute_input": "2021-04-05T22:20:52.029825Z",
     "iopub.status.busy": "2021-04-05T22:20:52.028718Z",
     "iopub.status.idle": "2021-04-05T22:20:52.040146Z",
     "shell.execute_reply": "2021-04-05T22:20:52.039407Z"
    },
    "id": "3J0S4OCYn5ef",
    "outputId": "68cb6303-decd-4320-e2af-b4390563b7ef",
    "papermill": {
     "duration": 0.056194,
     "end_time": "2021-04-05T22:20:52.040298",
     "exception": false,
     "start_time": "2021-04-05T22:20:51.984104",
     "status": "completed"
    },
    "tags": []
   },
   "outputs": [
    {
     "data": {
      "text/plain": [
       "count    2500.000000\n",
       "mean        6.096360\n",
       "std         0.596306\n",
       "min         5.100000\n",
       "25%         5.600000\n",
       "50%         6.100000\n",
       "75%         6.600000\n",
       "max         7.100000\n",
       "Name: forehead_height_cm, dtype: float64"
      ]
     },
     "execution_count": 10,
     "metadata": {},
     "output_type": "execute_result"
    }
   ],
   "source": [
    "males['forehead_height_cm'].describe()"
   ]
  },
  {
   "cell_type": "code",
   "execution_count": 11,
   "metadata": {
    "execution": {
     "iopub.execute_input": "2021-04-05T22:20:52.136544Z",
     "iopub.status.busy": "2021-04-05T22:20:52.132852Z",
     "iopub.status.idle": "2021-04-05T22:20:52.332083Z",
     "shell.execute_reply": "2021-04-05T22:20:52.331463Z"
    },
    "id": "9fCNs0chnY2R",
    "outputId": "c8e46dcf-f187-4afe-8cee-fdad02bbe32c",
    "papermill": {
     "duration": 0.249222,
     "end_time": "2021-04-05T22:20:52.332233",
     "exception": false,
     "start_time": "2021-04-05T22:20:52.083011",
     "status": "completed"
    },
    "tags": []
   },
   "outputs": [
    {
     "data": {
      "text/plain": [
       "<AxesSubplot:xlabel='forehead_height_cm', ylabel='Count'>"
      ]
     },
     "execution_count": 11,
     "metadata": {},
     "output_type": "execute_result"
    },
    {
     "data": {
      "image/png": "[encoded data removed]",
      "text/plain": [
       "<Figure size 432x288 with 1 Axes>"
      ]
     },
     "metadata": {
      "needs_background": "light"
     },
     "output_type": "display_data"
    }
   ],
   "source": [
    "sns.histplot(data = males , x = \"forehead_height_cm\")"
   ]
  },
  {
   "cell_type": "markdown",
   "metadata": {
    "id": "dfpTq1X1rp9X",
    "papermill": {
     "duration": 0.043252,
     "end_time": "2021-04-05T22:20:52.420291",
     "exception": false,
     "start_time": "2021-04-05T22:20:52.377039",
     "status": "completed"
    },
    "tags": []
   },
   "source": [
    "## 3 - nose_wide(1/0) :\n",
    "\n",
    "as we see - in the describe below - more than **2183** males have a wide nose thar means **87%** of males have this wide nose and just **317** males haven't a wide nose . \n",
    "\n",
    "( **look to the describtion and histogram below** )"
   ]
  },
  {
   "cell_type": "code",
   "execution_count": 12,
   "metadata": {
    "execution": {
     "iopub.execute_input": "2021-04-05T22:20:52.522224Z",
     "iopub.status.busy": "2021-04-05T22:20:52.516939Z",
     "iopub.status.idle": "2021-04-05T22:20:52.546466Z",
     "shell.execute_reply": "2021-04-05T22:20:52.545757Z"
    },
    "id": "20AszXqxYpE5",
    "outputId": "acb57235-b716-44eb-ef9a-ef118d6b1990",
    "papermill": {
     "duration": 0.083105,
     "end_time": "2021-04-05T22:20:52.546618",
     "exception": false,
     "start_time": "2021-04-05T22:20:52.463513",
     "status": "completed"
    },
    "tags": []
   },
   "outputs": [
    {
     "data": {
      "text/html": [
       "<div>\n",
       "<style scoped>\n",
       "    .dataframe tbody tr th:only-of-type {\n",
       "        vertical-align: middle;\n",
       "    }\n",
       "\n",
       "    .dataframe tbody tr th {\n",
       "        vertical-align: top;\n",
       "    }\n",
       "\n",
       "    .dataframe thead th {\n",
       "        text-align: right;\n",
       "    }\n",
       "</style>\n",
       "<table border=\"1\" class=\"dataframe\">\n",
       "  <thead>\n",
       "    <tr style=\"text-align: right;\">\n",
       "      <th></th>\n",
       "      <th>count</th>\n",
       "      <th>mean</th>\n",
       "      <th>std</th>\n",
       "      <th>min</th>\n",
       "      <th>25%</th>\n",
       "      <th>50%</th>\n",
       "      <th>75%</th>\n",
       "      <th>max</th>\n",
       "    </tr>\n",
       "    <tr>\n",
       "      <th>nose_wide</th>\n",
       "      <th></th>\n",
       "      <th></th>\n",
       "      <th></th>\n",
       "      <th></th>\n",
       "      <th></th>\n",
       "      <th></th>\n",
       "      <th></th>\n",
       "      <th></th>\n",
       "    </tr>\n",
       "  </thead>\n",
       "  <tbody>\n",
       "    <tr>\n",
       "      <th>0</th>\n",
       "      <td>317.0</td>\n",
       "      <td>0.0</td>\n",
       "      <td>0.0</td>\n",
       "      <td>0.0</td>\n",
       "      <td>0.0</td>\n",
       "      <td>0.0</td>\n",
       "      <td>0.0</td>\n",
       "      <td>0.0</td>\n",
       "    </tr>\n",
       "    <tr>\n",
       "      <th>1</th>\n",
       "      <td>2183.0</td>\n",
       "      <td>1.0</td>\n",
       "      <td>0.0</td>\n",
       "      <td>1.0</td>\n",
       "      <td>1.0</td>\n",
       "      <td>1.0</td>\n",
       "      <td>1.0</td>\n",
       "      <td>1.0</td>\n",
       "    </tr>\n",
       "  </tbody>\n",
       "</table>\n",
       "</div>"
      ],
      "text/plain": [
       "            count  mean  std  min  25%  50%  75%  max\n",
       "nose_wide                                            \n",
       "0           317.0   0.0  0.0  0.0  0.0  0.0  0.0  0.0\n",
       "1          2183.0   1.0  0.0  1.0  1.0  1.0  1.0  1.0"
      ]
     },
     "execution_count": 12,
     "metadata": {},
     "output_type": "execute_result"
    }
   ],
   "source": [
    "males.groupby('nose_wide')['nose_wide'].describe()"
   ]
  },
  {
   "cell_type": "code",
   "execution_count": 13,
   "metadata": {
    "execution": {
     "iopub.execute_input": "2021-04-05T22:20:52.672418Z",
     "iopub.status.busy": "2021-04-05T22:20:52.660323Z",
     "iopub.status.idle": "2021-04-05T22:20:52.821227Z",
     "shell.execute_reply": "2021-04-05T22:20:52.821785Z"
    },
    "id": "Dh1Y6SNjoHAH",
    "outputId": "6fff4ff1-b361-4335-ae26-fd45ae97d41a",
    "papermill": {
     "duration": 0.230733,
     "end_time": "2021-04-05T22:20:52.821978",
     "exception": false,
     "start_time": "2021-04-05T22:20:52.591245",
     "status": "completed"
    },
    "tags": []
   },
   "outputs": [
    {
     "data": {
      "text/plain": [
       "<AxesSubplot:xlabel='nose_wide', ylabel='Count'>"
      ]
     },
     "execution_count": 13,
     "metadata": {},
     "output_type": "execute_result"
    },
    {
     "data": {
      "image/png": "[encoded data removed]",
      "text/plain": [
       "<Figure size 432x288 with 1 Axes>"
      ]
     },
     "metadata": {
      "needs_background": "light"
     },
     "output_type": "display_data"
    }
   ],
   "source": [
    "sns.histplot(data = males , x = 'nose_wide')"
   ]
  },
  {
   "cell_type": "markdown",
   "metadata": {
    "id": "h6BDu0KdsgUq",
    "papermill": {
     "duration": 0.04511,
     "end_time": "2021-04-05T22:20:52.911908",
     "exception": false,
     "start_time": "2021-04-05T22:20:52.866798",
     "status": "completed"
    },
    "tags": []
   },
   "source": [
    "## 4 - nose_long (1/0) :\n",
    "\n",
    "Also there we have **2200** males with a long nose , about **88%** of males , and 300 males with a short nose .\n",
    "\n",
    "( **look to the describtion and histogram below** )"
   ]
  },
  {
   "cell_type": "code",
   "execution_count": 14,
   "metadata": {
    "execution": {
     "iopub.execute_input": "2021-04-05T22:20:53.009805Z",
     "iopub.status.busy": "2021-04-05T22:20:53.008735Z",
     "iopub.status.idle": "2021-04-05T22:20:53.033647Z",
     "shell.execute_reply": "2021-04-05T22:20:53.032777Z"
    },
    "id": "SVEU3LhKZrHz",
    "outputId": "6c786978-895c-4253-b05e-557d5201aaf0",
    "papermill": {
     "duration": 0.076598,
     "end_time": "2021-04-05T22:20:53.033827",
     "exception": false,
     "start_time": "2021-04-05T22:20:52.957229",
     "status": "completed"
    },
    "tags": []
   },
   "outputs": [
    {
     "data": {
      "text/html": [
       "<div>\n",
       "<style scoped>\n",
       "    .dataframe tbody tr th:only-of-type {\n",
       "        vertical-align: middle;\n",
       "    }\n",
       "\n",
       "    .dataframe tbody tr th {\n",
       "        vertical-align: top;\n",
       "    }\n",
       "\n",
       "    .dataframe thead th {\n",
       "        text-align: right;\n",
       "    }\n",
       "</style>\n",
       "<table border=\"1\" class=\"dataframe\">\n",
       "  <thead>\n",
       "    <tr style=\"text-align: right;\">\n",
       "      <th></th>\n",
       "      <th>count</th>\n",
       "      <th>mean</th>\n",
       "      <th>std</th>\n",
       "      <th>min</th>\n",
       "      <th>25%</th>\n",
       "      <th>50%</th>\n",
       "      <th>75%</th>\n",
       "      <th>max</th>\n",
       "    </tr>\n",
       "    <tr>\n",
       "      <th>nose_long</th>\n",
       "      <th></th>\n",
       "      <th></th>\n",
       "      <th></th>\n",
       "      <th></th>\n",
       "      <th></th>\n",
       "      <th></th>\n",
       "      <th></th>\n",
       "      <th></th>\n",
       "    </tr>\n",
       "  </thead>\n",
       "  <tbody>\n",
       "    <tr>\n",
       "      <th>0</th>\n",
       "      <td>300.0</td>\n",
       "      <td>0.0</td>\n",
       "      <td>0.0</td>\n",
       "      <td>0.0</td>\n",
       "      <td>0.0</td>\n",
       "      <td>0.0</td>\n",
       "      <td>0.0</td>\n",
       "      <td>0.0</td>\n",
       "    </tr>\n",
       "    <tr>\n",
       "      <th>1</th>\n",
       "      <td>2200.0</td>\n",
       "      <td>1.0</td>\n",
       "      <td>0.0</td>\n",
       "      <td>1.0</td>\n",
       "      <td>1.0</td>\n",
       "      <td>1.0</td>\n",
       "      <td>1.0</td>\n",
       "      <td>1.0</td>\n",
       "    </tr>\n",
       "  </tbody>\n",
       "</table>\n",
       "</div>"
      ],
      "text/plain": [
       "            count  mean  std  min  25%  50%  75%  max\n",
       "nose_long                                            \n",
       "0           300.0   0.0  0.0  0.0  0.0  0.0  0.0  0.0\n",
       "1          2200.0   1.0  0.0  1.0  1.0  1.0  1.0  1.0"
      ]
     },
     "execution_count": 14,
     "metadata": {},
     "output_type": "execute_result"
    }
   ],
   "source": [
    "males.groupby('nose_long')['nose_long'].describe()"
   ]
  },
  {
   "cell_type": "code",
   "execution_count": 15,
   "metadata": {
    "execution": {
     "iopub.execute_input": "2021-04-05T22:20:53.154713Z",
     "iopub.status.busy": "2021-04-05T22:20:53.138356Z",
     "iopub.status.idle": "2021-04-05T22:20:53.312546Z",
     "shell.execute_reply": "2021-04-05T22:20:53.311855Z"
    },
    "id": "8RPpHtPwoir3",
    "outputId": "f34192d6-8e9c-4eb1-fa66-4ba7f462ff2c",
    "papermill": {
     "duration": 0.23197,
     "end_time": "2021-04-05T22:20:53.312690",
     "exception": false,
     "start_time": "2021-04-05T22:20:53.080720",
     "status": "completed"
    },
    "tags": []
   },
   "outputs": [
    {
     "data": {
      "text/plain": [
       "<AxesSubplot:xlabel='nose_long', ylabel='Count'>"
      ]
     },
     "execution_count": 15,
     "metadata": {},
     "output_type": "execute_result"
    },
    {
     "data": {
      "image/png": "[encoded data removed]",
      "text/plain": [
       "<Figure size 432x288 with 1 Axes>"
      ]
     },
     "metadata": {
      "needs_background": "light"
     },
     "output_type": "display_data"
    }
   ],
   "source": [
    "sns.histplot(data = males , x = 'nose_long')"
   ]
  },
  {
   "cell_type": "markdown",
   "metadata": {
    "id": "ENUInG70tIn6",
    "papermill": {
     "duration": 0.048434,
     "end_time": "2021-04-05T22:20:53.408740",
     "exception": false,
     "start_time": "2021-04-05T22:20:53.360306",
     "status": "completed"
    },
    "tags": []
   },
   "source": [
    "## 5 - lips_thin (1/0) :\n",
    "\n",
    "there's 2162 males within a thin lips and 338 males without thin lips.\n",
    "**86%** of males within thin lips and **14%** doesn't have ."
   ]
  },
  {
   "cell_type": "code",
   "execution_count": 16,
   "metadata": {
    "execution": {
     "iopub.execute_input": "2021-04-05T22:20:53.509396Z",
     "iopub.status.busy": "2021-04-05T22:20:53.508623Z",
     "iopub.status.idle": "2021-04-05T22:20:53.532685Z",
     "shell.execute_reply": "2021-04-05T22:20:53.532011Z"
    },
    "id": "k_VmTJSzaaQH",
    "outputId": "fae0de52-1a0c-45a7-af04-b25d81bec626",
    "papermill": {
     "duration": 0.077276,
     "end_time": "2021-04-05T22:20:53.532844",
     "exception": false,
     "start_time": "2021-04-05T22:20:53.455568",
     "status": "completed"
    },
    "tags": []
   },
   "outputs": [
    {
     "data": {
      "text/html": [
       "<div>\n",
       "<style scoped>\n",
       "    .dataframe tbody tr th:only-of-type {\n",
       "        vertical-align: middle;\n",
       "    }\n",
       "\n",
       "    .dataframe tbody tr th {\n",
       "        vertical-align: top;\n",
       "    }\n",
       "\n",
       "    .dataframe thead th {\n",
       "        text-align: right;\n",
       "    }\n",
       "</style>\n",
       "<table border=\"1\" class=\"dataframe\">\n",
       "  <thead>\n",
       "    <tr style=\"text-align: right;\">\n",
       "      <th></th>\n",
       "      <th>count</th>\n",
       "      <th>mean</th>\n",
       "      <th>std</th>\n",
       "      <th>min</th>\n",
       "      <th>25%</th>\n",
       "      <th>50%</th>\n",
       "      <th>75%</th>\n",
       "      <th>max</th>\n",
       "    </tr>\n",
       "    <tr>\n",
       "      <th>lips_thin</th>\n",
       "      <th></th>\n",
       "      <th></th>\n",
       "      <th></th>\n",
       "      <th></th>\n",
       "      <th></th>\n",
       "      <th></th>\n",
       "      <th></th>\n",
       "      <th></th>\n",
       "    </tr>\n",
       "  </thead>\n",
       "  <tbody>\n",
       "    <tr>\n",
       "      <th>0</th>\n",
       "      <td>338.0</td>\n",
       "      <td>0.0</td>\n",
       "      <td>0.0</td>\n",
       "      <td>0.0</td>\n",
       "      <td>0.0</td>\n",
       "      <td>0.0</td>\n",
       "      <td>0.0</td>\n",
       "      <td>0.0</td>\n",
       "    </tr>\n",
       "    <tr>\n",
       "      <th>1</th>\n",
       "      <td>2162.0</td>\n",
       "      <td>1.0</td>\n",
       "      <td>0.0</td>\n",
       "      <td>1.0</td>\n",
       "      <td>1.0</td>\n",
       "      <td>1.0</td>\n",
       "      <td>1.0</td>\n",
       "      <td>1.0</td>\n",
       "    </tr>\n",
       "  </tbody>\n",
       "</table>\n",
       "</div>"
      ],
      "text/plain": [
       "            count  mean  std  min  25%  50%  75%  max\n",
       "lips_thin                                            \n",
       "0           338.0   0.0  0.0  0.0  0.0  0.0  0.0  0.0\n",
       "1          2162.0   1.0  0.0  1.0  1.0  1.0  1.0  1.0"
      ]
     },
     "execution_count": 16,
     "metadata": {},
     "output_type": "execute_result"
    }
   ],
   "source": [
    "males.groupby('lips_thin')['lips_thin'].describe()"
   ]
  },
  {
   "cell_type": "code",
   "execution_count": 17,
   "metadata": {
    "execution": {
     "iopub.execute_input": "2021-04-05T22:20:53.641715Z",
     "iopub.status.busy": "2021-04-05T22:20:53.640632Z",
     "iopub.status.idle": "2021-04-05T22:20:53.815679Z",
     "shell.execute_reply": "2021-04-05T22:20:53.815050Z"
    },
    "id": "3ZcWimuqopoR",
    "outputId": "b6286d25-c9f0-4e05-c89a-478d6d5a0bae",
    "papermill": {
     "duration": 0.231992,
     "end_time": "2021-04-05T22:20:53.815831",
     "exception": false,
     "start_time": "2021-04-05T22:20:53.583839",
     "status": "completed"
    },
    "tags": []
   },
   "outputs": [
    {
     "data": {
      "text/plain": [
       "<AxesSubplot:xlabel='lips_thin', ylabel='Count'>"
      ]
     },
     "execution_count": 17,
     "metadata": {},
     "output_type": "execute_result"
    },
    {
     "data": {
      "image/png": "[encoded data removed]",
      "text/plain": [
       "<Figure size 432x288 with 1 Axes>"
      ]
     },
     "metadata": {
      "needs_background": "light"
     },
     "output_type": "display_data"
    }
   ],
   "source": [
    "sns.histplot(data = males , x = 'lips_thin')"
   ]
  },
  {
   "cell_type": "markdown",
   "metadata": {
    "id": "F4ZbR1v3uLkD",
    "papermill": {
     "duration": 0.048017,
     "end_time": "2021-04-05T22:20:53.912652",
     "exception": false,
     "start_time": "2021-04-05T22:20:53.864635",
     "status": "completed"
    },
    "tags": []
   },
   "source": [
    "## 6 - distance_nose_to_lip_long\n",
    "\n",
    "**2191** males there is a long distance between their nose and lips , and more than **300** males don't have this long dstance between their nose and lips .\n",
    "\n",
    "\n",
    "---\n",
    "> **87%** of males have a long distance between their lips and nose .\n",
    "\n",
    "> **13%** of males haven't a long distance between their lips and nose .\n",
    "\n",
    "( **look to the describtion and histogram below** )\n",
    "\n",
    "\n"
   ]
  },
  {
   "cell_type": "code",
   "execution_count": 18,
   "metadata": {
    "execution": {
     "iopub.execute_input": "2021-04-05T22:20:54.020378Z",
     "iopub.status.busy": "2021-04-05T22:20:54.019581Z",
     "iopub.status.idle": "2021-04-05T22:20:54.041343Z",
     "shell.execute_reply": "2021-04-05T22:20:54.041889Z"
    },
    "id": "xuE9o8JtbHDR",
    "outputId": "a597e37d-acc4-4d74-ca1a-a3aa603d55d3",
    "papermill": {
     "duration": 0.079235,
     "end_time": "2021-04-05T22:20:54.042091",
     "exception": false,
     "start_time": "2021-04-05T22:20:53.962856",
     "status": "completed"
    },
    "tags": []
   },
   "outputs": [
    {
     "data": {
      "text/html": [
       "<div>\n",
       "<style scoped>\n",
       "    .dataframe tbody tr th:only-of-type {\n",
       "        vertical-align: middle;\n",
       "    }\n",
       "\n",
       "    .dataframe tbody tr th {\n",
       "        vertical-align: top;\n",
       "    }\n",
       "\n",
       "    .dataframe thead th {\n",
       "        text-align: right;\n",
       "    }\n",
       "</style>\n",
       "<table border=\"1\" class=\"dataframe\">\n",
       "  <thead>\n",
       "    <tr style=\"text-align: right;\">\n",
       "      <th></th>\n",
       "      <th>count</th>\n",
       "      <th>mean</th>\n",
       "      <th>std</th>\n",
       "      <th>min</th>\n",
       "      <th>25%</th>\n",
       "      <th>50%</th>\n",
       "      <th>75%</th>\n",
       "      <th>max</th>\n",
       "    </tr>\n",
       "    <tr>\n",
       "      <th>distance_nose_to_lip_long</th>\n",
       "      <th></th>\n",
       "      <th></th>\n",
       "      <th></th>\n",
       "      <th></th>\n",
       "      <th></th>\n",
       "      <th></th>\n",
       "      <th></th>\n",
       "      <th></th>\n",
       "    </tr>\n",
       "  </thead>\n",
       "  <tbody>\n",
       "    <tr>\n",
       "      <th>0</th>\n",
       "      <td>309.0</td>\n",
       "      <td>0.0</td>\n",
       "      <td>0.0</td>\n",
       "      <td>0.0</td>\n",
       "      <td>0.0</td>\n",
       "      <td>0.0</td>\n",
       "      <td>0.0</td>\n",
       "      <td>0.0</td>\n",
       "    </tr>\n",
       "    <tr>\n",
       "      <th>1</th>\n",
       "      <td>2191.0</td>\n",
       "      <td>1.0</td>\n",
       "      <td>0.0</td>\n",
       "      <td>1.0</td>\n",
       "      <td>1.0</td>\n",
       "      <td>1.0</td>\n",
       "      <td>1.0</td>\n",
       "      <td>1.0</td>\n",
       "    </tr>\n",
       "  </tbody>\n",
       "</table>\n",
       "</div>"
      ],
      "text/plain": [
       "                            count  mean  std  min  25%  50%  75%  max\n",
       "distance_nose_to_lip_long                                            \n",
       "0                           309.0   0.0  0.0  0.0  0.0  0.0  0.0  0.0\n",
       "1                          2191.0   1.0  0.0  1.0  1.0  1.0  1.0  1.0"
      ]
     },
     "execution_count": 18,
     "metadata": {},
     "output_type": "execute_result"
    }
   ],
   "source": [
    "males.groupby('distance_nose_to_lip_long')['distance_nose_to_lip_long'].describe()"
   ]
  },
  {
   "cell_type": "code",
   "execution_count": 19,
   "metadata": {
    "execution": {
     "iopub.execute_input": "2021-04-05T22:20:54.146162Z",
     "iopub.status.busy": "2021-04-05T22:20:54.145121Z",
     "iopub.status.idle": "2021-04-05T22:20:54.321329Z",
     "shell.execute_reply": "2021-04-05T22:20:54.320659Z"
    },
    "id": "1oYPd8_hoxe8",
    "outputId": "c45716d0-8b71-43a2-c49c-65379e4cf13c",
    "papermill": {
     "duration": 0.229172,
     "end_time": "2021-04-05T22:20:54.321492",
     "exception": false,
     "start_time": "2021-04-05T22:20:54.092320",
     "status": "completed"
    },
    "tags": []
   },
   "outputs": [
    {
     "data": {
      "text/plain": [
       "<AxesSubplot:xlabel='distance_nose_to_lip_long', ylabel='Count'>"
      ]
     },
     "execution_count": 19,
     "metadata": {},
     "output_type": "execute_result"
    },
    {
     "data": {
      "image/png": "[encoded data removed]",
      "text/plain": [
       "<Figure size 432x288 with 1 Axes>"
      ]
     },
     "metadata": {
      "needs_background": "light"
     },
     "output_type": "display_data"
    }
   ],
   "source": [
    "sns.histplot(data = males , x = 'distance_nose_to_lip_long')"
   ]
  },
  {
   "cell_type": "markdown",
   "metadata": {
    "id": "prt_E1v1v0Xt",
    "papermill": {
     "duration": 0.054043,
     "end_time": "2021-04-05T22:20:54.426233",
     "exception": false,
     "start_time": "2021-04-05T22:20:54.372190",
     "status": "completed"
    },
    "tags": []
   },
   "source": [
    "Now after we saw every features and his relation with **males** let's go and see how their relations with **females** . "
   ]
  },
  {
   "cell_type": "markdown",
   "metadata": {
    "id": "L_3-cNVWwHR3",
    "papermill": {
     "duration": 0.050335,
     "end_time": "2021-04-05T22:20:54.527562",
     "exception": false,
     "start_time": "2021-04-05T22:20:54.477227",
     "status": "completed"
    },
    "tags": []
   },
   "source": [
    "# 2 - Females\n",
    "\n",
    "Now , we're going to make a quik survey on females also , like what we do above ."
   ]
  },
  {
   "cell_type": "markdown",
   "metadata": {
    "id": "wY9cCsxHwfRP",
    "papermill": {
     "duration": 0.050055,
     "end_time": "2021-04-05T22:20:54.628285",
     "exception": false,
     "start_time": "2021-04-05T22:20:54.578230",
     "status": "completed"
    },
    "tags": []
   },
   "source": [
    "## 1 - forehead_height_cm\n",
    "\n",
    "> Female's forehead height is between 5.1 cm and 6.5 cm and the mean of their forehead height is 5.8 cm .\n",
    "\n",
    "---\n",
    "\n",
    "> Most of female's forehead height is 5.2 cm then 6.4 cm .\n",
    "\n",
    "---\n",
    "\n",
    "( **look to the describtion and histogram below**)"
   ]
  },
  {
   "cell_type": "code",
   "execution_count": 20,
   "metadata": {
    "execution": {
     "iopub.execute_input": "2021-04-05T22:20:54.738189Z",
     "iopub.status.busy": "2021-04-05T22:20:54.737494Z",
     "iopub.status.idle": "2021-04-05T22:20:54.746776Z",
     "shell.execute_reply": "2021-04-05T22:20:54.747334Z"
    },
    "id": "v4mUrf-Po-cl",
    "outputId": "40130b8f-f202-482c-8436-d52d8ce3cc7e",
    "papermill": {
     "duration": 0.06901,
     "end_time": "2021-04-05T22:20:54.747549",
     "exception": false,
     "start_time": "2021-04-05T22:20:54.678539",
     "status": "completed"
    },
    "tags": []
   },
   "outputs": [
    {
     "data": {
      "text/plain": [
       "count    2501.000000\n",
       "mean        5.796321\n",
       "std         0.430677\n",
       "min         5.100000\n",
       "25%         5.400000\n",
       "50%         5.800000\n",
       "75%         6.200000\n",
       "max         6.500000\n",
       "Name: forehead_height_cm, dtype: float64"
      ]
     },
     "execution_count": 20,
     "metadata": {},
     "output_type": "execute_result"
    }
   ],
   "source": [
    "\n",
    "females = df.query(\"gender  == 'Female' \")\n",
    "females['forehead_height_cm'].describe()"
   ]
  },
  {
   "cell_type": "code",
   "execution_count": 21,
   "metadata": {
    "execution": {
     "iopub.execute_input": "2021-04-05T22:20:54.852519Z",
     "iopub.status.busy": "2021-04-05T22:20:54.851820Z",
     "iopub.status.idle": "2021-04-05T22:20:55.048212Z",
     "shell.execute_reply": "2021-04-05T22:20:55.047557Z"
    },
    "id": "E9jm-qG3p2IS",
    "outputId": "320ad893-550d-47c3-9df5-1a9291f3632f",
    "papermill": {
     "duration": 0.250494,
     "end_time": "2021-04-05T22:20:55.048365",
     "exception": false,
     "start_time": "2021-04-05T22:20:54.797871",
     "status": "completed"
    },
    "tags": []
   },
   "outputs": [
    {
     "data": {
      "text/plain": [
       "<AxesSubplot:xlabel='forehead_height_cm', ylabel='Count'>"
      ]
     },
     "execution_count": 21,
     "metadata": {},
     "output_type": "execute_result"
    },
    {
     "data": {
      "image/png": "[encoded data removed]",
      "text/plain": [
       "<Figure size 432x288 with 1 Axes>"
      ]
     },
     "metadata": {
      "needs_background": "light"
     },
     "output_type": "display_data"
    }
   ],
   "source": [
    "sns.histplot(data = females , x = 'forehead_height_cm')"
   ]
  },
  {
   "cell_type": "markdown",
   "metadata": {
    "id": "sGKH_Z0gxcQK",
    "papermill": {
     "duration": 0.051141,
     "end_time": "2021-04-05T22:20:55.152137",
     "exception": false,
     "start_time": "2021-04-05T22:20:55.100996",
     "status": "completed"
    },
    "tags": []
   },
   "source": [
    "## 2 - forehead_width_cm :\n",
    "\n",
    "> It's between 11.4 cm and 12.8 cm and the mean is 12.8 cm ."
   ]
  },
  {
   "cell_type": "code",
   "execution_count": 22,
   "metadata": {
    "execution": {
     "iopub.execute_input": "2021-04-05T22:20:55.264901Z",
     "iopub.status.busy": "2021-04-05T22:20:55.261850Z",
     "iopub.status.idle": "2021-04-05T22:20:55.270391Z",
     "shell.execute_reply": "2021-04-05T22:20:55.269420Z"
    },
    "id": "giNAbj4opefg",
    "outputId": "2c41945e-3150-405b-a805-66e584920856",
    "papermill": {
     "duration": 0.066851,
     "end_time": "2021-04-05T22:20:55.270598",
     "exception": false,
     "start_time": "2021-04-05T22:20:55.203747",
     "status": "completed"
    },
    "tags": []
   },
   "outputs": [
    {
     "data": {
      "text/plain": [
       "count    2501.000000\n",
       "mean       12.811675\n",
       "std         0.876703\n",
       "min        11.400000\n",
       "25%        12.000000\n",
       "50%        12.800000\n",
       "75%        13.600000\n",
       "max        14.300000\n",
       "Name: forehead_width_cm, dtype: float64"
      ]
     },
     "execution_count": 22,
     "metadata": {},
     "output_type": "execute_result"
    }
   ],
   "source": [
    "females['forehead_width_cm'].describe()"
   ]
  },
  {
   "cell_type": "code",
   "execution_count": 23,
   "metadata": {
    "execution": {
     "iopub.execute_input": "2021-04-05T22:20:55.416270Z",
     "iopub.status.busy": "2021-04-05T22:20:55.414790Z",
     "iopub.status.idle": "2021-04-05T22:20:55.573586Z",
     "shell.execute_reply": "2021-04-05T22:20:55.574091Z"
    },
    "id": "Qazqn6pUpr6u",
    "outputId": "6d648364-5f5b-4052-fa7b-46116cc7d6b2",
    "papermill": {
     "duration": 0.250294,
     "end_time": "2021-04-05T22:20:55.574305",
     "exception": false,
     "start_time": "2021-04-05T22:20:55.324011",
     "status": "completed"
    },
    "tags": []
   },
   "outputs": [
    {
     "data": {
      "text/plain": [
       "<AxesSubplot:xlabel='forehead_width_cm', ylabel='Count'>"
      ]
     },
     "execution_count": 23,
     "metadata": {},
     "output_type": "execute_result"
    },
    {
     "data": {
      "image/png": "[encoded data removed]",
      "text/plain": [
       "<Figure size 432x288 with 1 Axes>"
      ]
     },
     "metadata": {
      "needs_background": "light"
     },
     "output_type": "display_data"
    }
   ],
   "source": [
    "sns.histplot(data = females , x = 'forehead_width_cm')"
   ]
  },
  {
   "cell_type": "markdown",
   "metadata": {
    "id": "QQkaRbKJxtI3",
    "papermill": {
     "duration": 0.053892,
     "end_time": "2021-04-05T22:20:55.681725",
     "exception": false,
     "start_time": "2021-04-05T22:20:55.627833",
     "status": "completed"
    },
    "tags": []
   },
   "source": [
    "## 3 - nose_width (1/0) :\n",
    "\n",
    "> As we see female's nose isn't wide we're taking about **2214** feamles without a wide nose \n",
    "\n",
    "> that means 88% of the females don't have wide nose .\n",
    "\n",
    "(**look to the describtion and hisogram below**)"
   ]
  },
  {
   "cell_type": "code",
   "execution_count": 24,
   "metadata": {
    "execution": {
     "iopub.execute_input": "2021-04-05T22:20:55.796163Z",
     "iopub.status.busy": "2021-04-05T22:20:55.795340Z",
     "iopub.status.idle": "2021-04-05T22:20:55.816976Z",
     "shell.execute_reply": "2021-04-05T22:20:55.817549Z"
    },
    "id": "EdUTVhM8-7zL",
    "outputId": "1c89897d-a94e-4b4d-9f84-336e59dd9015",
    "papermill": {
     "duration": 0.08153,
     "end_time": "2021-04-05T22:20:55.817735",
     "exception": false,
     "start_time": "2021-04-05T22:20:55.736205",
     "status": "completed"
    },
    "tags": []
   },
   "outputs": [
    {
     "data": {
      "text/html": [
       "<div>\n",
       "<style scoped>\n",
       "    .dataframe tbody tr th:only-of-type {\n",
       "        vertical-align: middle;\n",
       "    }\n",
       "\n",
       "    .dataframe tbody tr th {\n",
       "        vertical-align: top;\n",
       "    }\n",
       "\n",
       "    .dataframe thead th {\n",
       "        text-align: right;\n",
       "    }\n",
       "</style>\n",
       "<table border=\"1\" class=\"dataframe\">\n",
       "  <thead>\n",
       "    <tr style=\"text-align: right;\">\n",
       "      <th></th>\n",
       "      <th>count</th>\n",
       "      <th>mean</th>\n",
       "      <th>std</th>\n",
       "      <th>min</th>\n",
       "      <th>25%</th>\n",
       "      <th>50%</th>\n",
       "      <th>75%</th>\n",
       "      <th>max</th>\n",
       "    </tr>\n",
       "    <tr>\n",
       "      <th>nose_wide</th>\n",
       "      <th></th>\n",
       "      <th></th>\n",
       "      <th></th>\n",
       "      <th></th>\n",
       "      <th></th>\n",
       "      <th></th>\n",
       "      <th></th>\n",
       "      <th></th>\n",
       "    </tr>\n",
       "  </thead>\n",
       "  <tbody>\n",
       "    <tr>\n",
       "      <th>0</th>\n",
       "      <td>2214.0</td>\n",
       "      <td>0.0</td>\n",
       "      <td>0.0</td>\n",
       "      <td>0.0</td>\n",
       "      <td>0.0</td>\n",
       "      <td>0.0</td>\n",
       "      <td>0.0</td>\n",
       "      <td>0.0</td>\n",
       "    </tr>\n",
       "    <tr>\n",
       "      <th>1</th>\n",
       "      <td>287.0</td>\n",
       "      <td>1.0</td>\n",
       "      <td>0.0</td>\n",
       "      <td>1.0</td>\n",
       "      <td>1.0</td>\n",
       "      <td>1.0</td>\n",
       "      <td>1.0</td>\n",
       "      <td>1.0</td>\n",
       "    </tr>\n",
       "  </tbody>\n",
       "</table>\n",
       "</div>"
      ],
      "text/plain": [
       "            count  mean  std  min  25%  50%  75%  max\n",
       "nose_wide                                            \n",
       "0          2214.0   0.0  0.0  0.0  0.0  0.0  0.0  0.0\n",
       "1           287.0   1.0  0.0  1.0  1.0  1.0  1.0  1.0"
      ]
     },
     "execution_count": 24,
     "metadata": {},
     "output_type": "execute_result"
    }
   ],
   "source": [
    "females.groupby('nose_wide')['nose_wide'].describe()"
   ]
  },
  {
   "cell_type": "code",
   "execution_count": 25,
   "metadata": {
    "execution": {
     "iopub.execute_input": "2021-04-05T22:20:55.932167Z",
     "iopub.status.busy": "2021-04-05T22:20:55.930902Z",
     "iopub.status.idle": "2021-04-05T22:20:56.110523Z",
     "shell.execute_reply": "2021-04-05T22:20:56.111039Z"
    },
    "id": "X45U5yvyp_wy",
    "outputId": "46c699a4-0625-43e5-ebe1-1dd55453c86c",
    "papermill": {
     "duration": 0.238933,
     "end_time": "2021-04-05T22:20:56.111252",
     "exception": false,
     "start_time": "2021-04-05T22:20:55.872319",
     "status": "completed"
    },
    "tags": []
   },
   "outputs": [
    {
     "data": {
      "text/plain": [
       "<AxesSubplot:xlabel='nose_wide', ylabel='Count'>"
      ]
     },
     "execution_count": 25,
     "metadata": {},
     "output_type": "execute_result"
    },
    {
     "data": {
      "image/png": "[encoded data removed]",
      "text/plain": [
       "<Figure size 432x288 with 1 Axes>"
      ]
     },
     "metadata": {
      "needs_background": "light"
     },
     "output_type": "display_data"
    }
   ],
   "source": [
    "sns.histplot(data = females , x = 'nose_wide')"
   ]
  },
  {
   "cell_type": "markdown",
   "metadata": {
    "id": "fniXo6slyWI3",
    "papermill": {
     "duration": 0.06237,
     "end_time": "2021-04-05T22:20:56.229798",
     "exception": false,
     "start_time": "2021-04-05T22:20:56.167428",
     "status": "completed"
    },
    "tags": []
   },
   "source": [
    "## 4 - nose_long (1/0) : \n",
    "\n",
    "> And also there more than **2160** females don't have a long nose \n",
    "\n",
    "> About **86%** females have a short nose ."
   ]
  },
  {
   "cell_type": "code",
   "execution_count": 26,
   "metadata": {
    "execution": {
     "iopub.execute_input": "2021-04-05T22:20:56.353996Z",
     "iopub.status.busy": "2021-04-05T22:20:56.353300Z",
     "iopub.status.idle": "2021-04-05T22:20:56.371465Z",
     "shell.execute_reply": "2021-04-05T22:20:56.370737Z"
    },
    "id": "004gkQtIAujM",
    "outputId": "7339988a-ab66-41a4-85fe-9cf162ba2532",
    "papermill": {
     "duration": 0.085599,
     "end_time": "2021-04-05T22:20:56.371614",
     "exception": false,
     "start_time": "2021-04-05T22:20:56.286015",
     "status": "completed"
    },
    "tags": []
   },
   "outputs": [
    {
     "data": {
      "text/html": [
       "<div>\n",
       "<style scoped>\n",
       "    .dataframe tbody tr th:only-of-type {\n",
       "        vertical-align: middle;\n",
       "    }\n",
       "\n",
       "    .dataframe tbody tr th {\n",
       "        vertical-align: top;\n",
       "    }\n",
       "\n",
       "    .dataframe thead th {\n",
       "        text-align: right;\n",
       "    }\n",
       "</style>\n",
       "<table border=\"1\" class=\"dataframe\">\n",
       "  <thead>\n",
       "    <tr style=\"text-align: right;\">\n",
       "      <th></th>\n",
       "      <th>count</th>\n",
       "      <th>mean</th>\n",
       "      <th>std</th>\n",
       "      <th>min</th>\n",
       "      <th>25%</th>\n",
       "      <th>50%</th>\n",
       "      <th>75%</th>\n",
       "      <th>max</th>\n",
       "    </tr>\n",
       "    <tr>\n",
       "      <th>nose_long</th>\n",
       "      <th></th>\n",
       "      <th></th>\n",
       "      <th></th>\n",
       "      <th></th>\n",
       "      <th></th>\n",
       "      <th></th>\n",
       "      <th></th>\n",
       "      <th></th>\n",
       "    </tr>\n",
       "  </thead>\n",
       "  <tbody>\n",
       "    <tr>\n",
       "      <th>0</th>\n",
       "      <td>2161.0</td>\n",
       "      <td>0.0</td>\n",
       "      <td>0.0</td>\n",
       "      <td>0.0</td>\n",
       "      <td>0.0</td>\n",
       "      <td>0.0</td>\n",
       "      <td>0.0</td>\n",
       "      <td>0.0</td>\n",
       "    </tr>\n",
       "    <tr>\n",
       "      <th>1</th>\n",
       "      <td>340.0</td>\n",
       "      <td>1.0</td>\n",
       "      <td>0.0</td>\n",
       "      <td>1.0</td>\n",
       "      <td>1.0</td>\n",
       "      <td>1.0</td>\n",
       "      <td>1.0</td>\n",
       "      <td>1.0</td>\n",
       "    </tr>\n",
       "  </tbody>\n",
       "</table>\n",
       "</div>"
      ],
      "text/plain": [
       "            count  mean  std  min  25%  50%  75%  max\n",
       "nose_long                                            \n",
       "0          2161.0   0.0  0.0  0.0  0.0  0.0  0.0  0.0\n",
       "1           340.0   1.0  0.0  1.0  1.0  1.0  1.0  1.0"
      ]
     },
     "execution_count": 26,
     "metadata": {},
     "output_type": "execute_result"
    }
   ],
   "source": [
    "females.groupby('nose_long')['nose_long'].describe()"
   ]
  },
  {
   "cell_type": "code",
   "execution_count": 27,
   "metadata": {
    "execution": {
     "iopub.execute_input": "2021-04-05T22:20:56.523643Z",
     "iopub.status.busy": "2021-04-05T22:20:56.515525Z",
     "iopub.status.idle": "2021-04-05T22:20:56.673673Z",
     "shell.execute_reply": "2021-04-05T22:20:56.674253Z"
    },
    "id": "q0aGwRNMqLb4",
    "outputId": "ba62dc46-ba75-49ea-f49e-522c96f2e573",
    "papermill": {
     "duration": 0.244816,
     "end_time": "2021-04-05T22:20:56.674577",
     "exception": false,
     "start_time": "2021-04-05T22:20:56.429761",
     "status": "completed"
    },
    "tags": []
   },
   "outputs": [
    {
     "data": {
      "text/plain": [
       "<AxesSubplot:xlabel='nose_long', ylabel='Count'>"
      ]
     },
     "execution_count": 27,
     "metadata": {},
     "output_type": "execute_result"
    },
    {
     "data": {
      "image/png": "[encoded data removed]",
      "text/plain": [
       "<Figure size 432x288 with 1 Axes>"
      ]
     },
     "metadata": {
      "needs_background": "light"
     },
     "output_type": "display_data"
    }
   ],
   "source": [
    "sns.histplot(data = females , x = 'nose_long')"
   ]
  },
  {
   "cell_type": "markdown",
   "metadata": {
    "id": "HIiGFZuAz10s",
    "papermill": {
     "duration": 0.05659,
     "end_time": "2021-04-05T22:20:56.789835",
     "exception": false,
     "start_time": "2021-04-05T22:20:56.733245",
     "status": "completed"
    },
    "tags": []
   },
   "source": [
    "## 5 - lips_thin (1/0):\n",
    "\n",
    "> Now , we are going to take the fifth feature that is lips thin . \n",
    "\n",
    "when we try to see how many **females** have a thin lips ? , we discover that there **2197** don't have a thin lips .\n",
    "\n",
    "> 88% of females have a thick lips .\n",
    "\n",
    "( **look to the describtion and histogram below**)"
   ]
  },
  {
   "cell_type": "code",
   "execution_count": 28,
   "metadata": {
    "execution": {
     "iopub.execute_input": "2021-04-05T22:20:56.909847Z",
     "iopub.status.busy": "2021-04-05T22:20:56.909157Z",
     "iopub.status.idle": "2021-04-05T22:20:56.932828Z",
     "shell.execute_reply": "2021-04-05T22:20:56.933335Z"
    },
    "id": "Kj8U9W2hBovY",
    "outputId": "b9c29f47-17ce-4717-a2b7-a8217a0bb713",
    "papermill": {
     "duration": 0.087222,
     "end_time": "2021-04-05T22:20:56.933540",
     "exception": false,
     "start_time": "2021-04-05T22:20:56.846318",
     "status": "completed"
    },
    "tags": []
   },
   "outputs": [
    {
     "data": {
      "text/html": [
       "<div>\n",
       "<style scoped>\n",
       "    .dataframe tbody tr th:only-of-type {\n",
       "        vertical-align: middle;\n",
       "    }\n",
       "\n",
       "    .dataframe tbody tr th {\n",
       "        vertical-align: top;\n",
       "    }\n",
       "\n",
       "    .dataframe thead th {\n",
       "        text-align: right;\n",
       "    }\n",
       "</style>\n",
       "<table border=\"1\" class=\"dataframe\">\n",
       "  <thead>\n",
       "    <tr style=\"text-align: right;\">\n",
       "      <th></th>\n",
       "      <th>count</th>\n",
       "      <th>mean</th>\n",
       "      <th>std</th>\n",
       "      <th>min</th>\n",
       "      <th>25%</th>\n",
       "      <th>50%</th>\n",
       "      <th>75%</th>\n",
       "      <th>max</th>\n",
       "    </tr>\n",
       "    <tr>\n",
       "      <th>lips_thin</th>\n",
       "      <th></th>\n",
       "      <th></th>\n",
       "      <th></th>\n",
       "      <th></th>\n",
       "      <th></th>\n",
       "      <th></th>\n",
       "      <th></th>\n",
       "      <th></th>\n",
       "    </tr>\n",
       "  </thead>\n",
       "  <tbody>\n",
       "    <tr>\n",
       "      <th>0</th>\n",
       "      <td>2197.0</td>\n",
       "      <td>0.0</td>\n",
       "      <td>0.0</td>\n",
       "      <td>0.0</td>\n",
       "      <td>0.0</td>\n",
       "      <td>0.0</td>\n",
       "      <td>0.0</td>\n",
       "      <td>0.0</td>\n",
       "    </tr>\n",
       "    <tr>\n",
       "      <th>1</th>\n",
       "      <td>304.0</td>\n",
       "      <td>1.0</td>\n",
       "      <td>0.0</td>\n",
       "      <td>1.0</td>\n",
       "      <td>1.0</td>\n",
       "      <td>1.0</td>\n",
       "      <td>1.0</td>\n",
       "      <td>1.0</td>\n",
       "    </tr>\n",
       "  </tbody>\n",
       "</table>\n",
       "</div>"
      ],
      "text/plain": [
       "            count  mean  std  min  25%  50%  75%  max\n",
       "lips_thin                                            \n",
       "0          2197.0   0.0  0.0  0.0  0.0  0.0  0.0  0.0\n",
       "1           304.0   1.0  0.0  1.0  1.0  1.0  1.0  1.0"
      ]
     },
     "execution_count": 28,
     "metadata": {},
     "output_type": "execute_result"
    }
   ],
   "source": [
    "females.groupby('lips_thin')['lips_thin'].describe()"
   ]
  },
  {
   "cell_type": "code",
   "execution_count": 29,
   "metadata": {
    "execution": {
     "iopub.execute_input": "2021-04-05T22:20:57.074936Z",
     "iopub.status.busy": "2021-04-05T22:20:57.053904Z",
     "iopub.status.idle": "2021-04-05T22:20:57.235187Z",
     "shell.execute_reply": "2021-04-05T22:20:57.233975Z"
    },
    "id": "bwwiV4XyqQ33",
    "outputId": "bedfd526-4fc5-4aba-bebc-92e1ea7852a5",
    "papermill": {
     "duration": 0.244905,
     "end_time": "2021-04-05T22:20:57.235361",
     "exception": false,
     "start_time": "2021-04-05T22:20:56.990456",
     "status": "completed"
    },
    "tags": []
   },
   "outputs": [
    {
     "data": {
      "text/plain": [
       "<AxesSubplot:xlabel='lips_thin', ylabel='Count'>"
      ]
     },
     "execution_count": 29,
     "metadata": {},
     "output_type": "execute_result"
    },
    {
     "data": {
      "image/png": "[encoded data removed]",
      "text/plain": [
       "<Figure size 432x288 with 1 Axes>"
      ]
     },
     "metadata": {
      "needs_background": "light"
     },
     "output_type": "display_data"
    }
   ],
   "source": [
    "sns.histplot(data= females , x = 'lips_thin')"
   ]
  },
  {
   "cell_type": "code",
   "execution_count": 30,
   "metadata": {
    "execution": {
     "iopub.execute_input": "2021-04-05T22:20:57.359799Z",
     "iopub.status.busy": "2021-04-05T22:20:57.358672Z",
     "iopub.status.idle": "2021-04-05T22:20:57.382578Z",
     "shell.execute_reply": "2021-04-05T22:20:57.381775Z"
    },
    "id": "S0YByK_eFtbe",
    "outputId": "249c15d4-2c67-48c6-a283-52dbb4f8fcdf",
    "papermill": {
     "duration": 0.089048,
     "end_time": "2021-04-05T22:20:57.382745",
     "exception": false,
     "start_time": "2021-04-05T22:20:57.293697",
     "status": "completed"
    },
    "tags": []
   },
   "outputs": [
    {
     "data": {
      "text/html": [
       "<div>\n",
       "<style scoped>\n",
       "    .dataframe tbody tr th:only-of-type {\n",
       "        vertical-align: middle;\n",
       "    }\n",
       "\n",
       "    .dataframe tbody tr th {\n",
       "        vertical-align: top;\n",
       "    }\n",
       "\n",
       "    .dataframe thead th {\n",
       "        text-align: right;\n",
       "    }\n",
       "</style>\n",
       "<table border=\"1\" class=\"dataframe\">\n",
       "  <thead>\n",
       "    <tr style=\"text-align: right;\">\n",
       "      <th></th>\n",
       "      <th>count</th>\n",
       "      <th>mean</th>\n",
       "      <th>std</th>\n",
       "      <th>min</th>\n",
       "      <th>25%</th>\n",
       "      <th>50%</th>\n",
       "      <th>75%</th>\n",
       "      <th>max</th>\n",
       "    </tr>\n",
       "    <tr>\n",
       "      <th>distance_nose_to_lip_long</th>\n",
       "      <th></th>\n",
       "      <th></th>\n",
       "      <th></th>\n",
       "      <th></th>\n",
       "      <th></th>\n",
       "      <th></th>\n",
       "      <th></th>\n",
       "      <th></th>\n",
       "    </tr>\n",
       "  </thead>\n",
       "  <tbody>\n",
       "    <tr>\n",
       "      <th>0</th>\n",
       "      <td>2197.0</td>\n",
       "      <td>0.0</td>\n",
       "      <td>0.0</td>\n",
       "      <td>0.0</td>\n",
       "      <td>0.0</td>\n",
       "      <td>0.0</td>\n",
       "      <td>0.0</td>\n",
       "      <td>0.0</td>\n",
       "    </tr>\n",
       "    <tr>\n",
       "      <th>1</th>\n",
       "      <td>304.0</td>\n",
       "      <td>1.0</td>\n",
       "      <td>0.0</td>\n",
       "      <td>1.0</td>\n",
       "      <td>1.0</td>\n",
       "      <td>1.0</td>\n",
       "      <td>1.0</td>\n",
       "      <td>1.0</td>\n",
       "    </tr>\n",
       "  </tbody>\n",
       "</table>\n",
       "</div>"
      ],
      "text/plain": [
       "                            count  mean  std  min  25%  50%  75%  max\n",
       "distance_nose_to_lip_long                                            \n",
       "0                          2197.0   0.0  0.0  0.0  0.0  0.0  0.0  0.0\n",
       "1                           304.0   1.0  0.0  1.0  1.0  1.0  1.0  1.0"
      ]
     },
     "execution_count": 30,
     "metadata": {},
     "output_type": "execute_result"
    }
   ],
   "source": [
    "females.groupby('distance_nose_to_lip_long')['distance_nose_to_lip_long'].describe()"
   ]
  },
  {
   "cell_type": "markdown",
   "metadata": {
    "id": "anzAwVvc5aNU",
    "papermill": {
     "duration": 0.058844,
     "end_time": "2021-04-05T22:20:57.501725",
     "exception": false,
     "start_time": "2021-04-05T22:20:57.442881",
     "status": "completed"
    },
    "tags": []
   },
   "source": [
    "## distance_nose_to_lip_long (1/0) :\n",
    "\n",
    "finally , we're going to see the last feature .\n",
    "\n",
    "> the statical reusalt here like the one before , about **2197** females don't have this long distance between their nose and lips ."
   ]
  },
  {
   "cell_type": "code",
   "execution_count": 31,
   "metadata": {
    "execution": {
     "iopub.execute_input": "2021-04-05T22:20:57.627389Z",
     "iopub.status.busy": "2021-04-05T22:20:57.626648Z",
     "iopub.status.idle": "2021-04-05T22:20:57.911638Z",
     "shell.execute_reply": "2021-04-05T22:20:57.910327Z"
    },
    "id": "BtdFR7utqaXI",
    "outputId": "0b1ef271-7a50-4f81-86cd-d3d4dca210f4",
    "papermill": {
     "duration": 0.350767,
     "end_time": "2021-04-05T22:20:57.911804",
     "exception": false,
     "start_time": "2021-04-05T22:20:57.561037",
     "status": "completed"
    },
    "tags": []
   },
   "outputs": [
    {
     "data": {
      "text/plain": [
       "<AxesSubplot:xlabel='distance_nose_to_lip_long', ylabel='Count'>"
      ]
     },
     "execution_count": 31,
     "metadata": {},
     "output_type": "execute_result"
    },
    {
     "data": {
      "image/png": "[encoded data removed]",
      "text/plain": [
       "<Figure size 432x288 with 1 Axes>"
      ]
     },
     "metadata": {
      "needs_background": "light"
     },
     "output_type": "display_data"
    }
   ],
   "source": [
    "sns.histplot(data = females , x = 'distance_nose_to_lip_long')"
   ]
  },
  {
   "cell_type": "markdown",
   "metadata": {
    "id": "G1c8cp9j6Apg",
    "papermill": {
     "duration": 0.061321,
     "end_time": "2021-04-05T22:20:58.034495",
     "exception": false,
     "start_time": "2021-04-05T22:20:57.973174",
     "status": "completed"
    },
    "tags": []
   },
   "source": [
    "# Discovers\n",
    "\n",
    "After these studeis about **males and females** we discover that there is a special diffrance in the following features between **males nad females**:\n",
    "\n",
    "1. nose_wide\n",
    "2. nose_long\n",
    "3. lips_thin\n",
    "4. distance_nose_to_lip_long\n",
    "\n",
    "we saw a big diffrance in these features between **males and females** , for example :\n",
    "\n",
    "about **87% of males** with a wide nose and on the other hand there is **88% females** without a wide nose .\n",
    "\n",
    "and you can look on each one of them an compare the reusalts between **males and females** , these features have a big effact when the model tries to predict a new data ."
   ]
  },
  {
   "cell_type": "markdown",
   "metadata": {
    "id": "sxQQ7vuZ7hiV",
    "papermill": {
     "duration": 0.060616,
     "end_time": "2021-04-05T22:20:58.155308",
     "exception": false,
     "start_time": "2021-04-05T22:20:58.094692",
     "status": "completed"
    },
    "tags": []
   },
   "source": [
    "# Train the model :"
   ]
  },
  {
   "cell_type": "code",
   "execution_count": 32,
   "metadata": {
    "execution": {
     "iopub.execute_input": "2021-04-05T22:20:58.286405Z",
     "iopub.status.busy": "2021-04-05T22:20:58.285634Z",
     "iopub.status.idle": "2021-04-05T22:20:58.859090Z",
     "shell.execute_reply": "2021-04-05T22:20:58.858088Z"
    },
    "id": "P321Wx5SfxAY",
    "papermill": {
     "duration": 0.641945,
     "end_time": "2021-04-05T22:20:58.859246",
     "exception": false,
     "start_time": "2021-04-05T22:20:58.217301",
     "status": "completed"
    },
    "tags": []
   },
   "outputs": [],
   "source": [
    "from sklearn.model_selection import train_test_split # to split the data in 2 dataset one for training and the other on for testing\n",
    "from sklearn.ensemble import RandomForestClassifier # the algorthim that I want to use is Random forest\n",
    "from sklearn.metrics import confusion_matrix , accuracy_score # to calculate how is this model good in predict new values"
   ]
  },
  {
   "cell_type": "code",
   "execution_count": 33,
   "metadata": {
    "execution": {
     "iopub.execute_input": "2021-04-05T22:20:58.989086Z",
     "iopub.status.busy": "2021-04-05T22:20:58.988380Z",
     "iopub.status.idle": "2021-04-05T22:20:58.992852Z",
     "shell.execute_reply": "2021-04-05T22:20:58.993390Z"
    },
    "id": "jE9vPwAhgeyF",
    "papermill": {
     "duration": 0.07367,
     "end_time": "2021-04-05T22:20:58.993584",
     "exception": false,
     "start_time": "2021-04-05T22:20:58.919914",
     "status": "completed"
    },
    "tags": []
   },
   "outputs": [],
   "source": [
    "columns = ['long_hair' ,\t'forehead_width_cm' ,\t'forehead_height_cm' ,\t'nose_wide' ,\t'nose_long' ,\t'lips_thin' ,\t'distance_nose_to_lip_long' \t]\n",
    "features = df[list(columns)]\n",
    "label = df['gender'].values"
   ]
  },
  {
   "cell_type": "code",
   "execution_count": 34,
   "metadata": {
    "execution": {
     "iopub.execute_input": "2021-04-05T22:20:59.122735Z",
     "iopub.status.busy": "2021-04-05T22:20:59.121699Z",
     "iopub.status.idle": "2021-04-05T22:20:59.128598Z",
     "shell.execute_reply": "2021-04-05T22:20:59.129085Z"
    },
    "id": "lATEW1gXgEKe",
    "papermill": {
     "duration": 0.071069,
     "end_time": "2021-04-05T22:20:59.129270",
     "exception": false,
     "start_time": "2021-04-05T22:20:59.058201",
     "status": "completed"
    },
    "tags": []
   },
   "outputs": [],
   "source": [
    "x_train , x_test , y_train , y_test = train_test_split(features,label,test_size = 0.3)"
   ]
  },
  {
   "cell_type": "code",
   "execution_count": 35,
   "metadata": {
    "execution": {
     "iopub.execute_input": "2021-04-05T22:20:59.256674Z",
     "iopub.status.busy": "2021-04-05T22:20:59.255639Z",
     "iopub.status.idle": "2021-04-05T22:20:59.264538Z",
     "shell.execute_reply": "2021-04-05T22:20:59.265284Z"
    },
    "id": "R5XWPXhJhLMt",
    "outputId": "435b3042-28b4-46e7-bb38-c0de0f0f42ee",
    "papermill": {
     "duration": 0.075845,
     "end_time": "2021-04-05T22:20:59.265538",
     "exception": false,
     "start_time": "2021-04-05T22:20:59.189693",
     "status": "completed"
    },
    "tags": []
   },
   "outputs": [
    {
     "name": "stdout",
     "output_type": "stream",
     "text": [
      "X train shape is:  (3500, 7)\n",
      "Y train shape is:  (3500,)\n",
      "X test shape is:  (1501, 7)\n",
      "Y test shape is:  (1501,)\n"
     ]
    }
   ],
   "source": [
    "print('X train shape is: ' , x_train.shape)\n",
    "print('Y train shape is: ' , y_train.shape)\n",
    "print('X test shape is: ' , x_test.shape)\n",
    "print('Y test shape is: ' , y_test.shape)"
   ]
  },
  {
   "cell_type": "code",
   "execution_count": 36,
   "metadata": {
    "execution": {
     "iopub.execute_input": "2021-04-05T22:20:59.394737Z",
     "iopub.status.busy": "2021-04-05T22:20:59.393940Z",
     "iopub.status.idle": "2021-04-05T22:20:59.397709Z",
     "shell.execute_reply": "2021-04-05T22:20:59.397171Z"
    },
    "id": "p96l3MOZhiAz",
    "papermill": {
     "duration": 0.069714,
     "end_time": "2021-04-05T22:20:59.397852",
     "exception": false,
     "start_time": "2021-04-05T22:20:59.328138",
     "status": "completed"
    },
    "tags": []
   },
   "outputs": [],
   "source": [
    "model = RandomForestClassifier()"
   ]
  },
  {
   "cell_type": "code",
   "execution_count": 37,
   "metadata": {
    "execution": {
     "iopub.execute_input": "2021-04-05T22:20:59.530805Z",
     "iopub.status.busy": "2021-04-05T22:20:59.527575Z",
     "iopub.status.idle": "2021-04-05T22:20:59.833186Z",
     "shell.execute_reply": "2021-04-05T22:20:59.832546Z"
    },
    "id": "HZGmkqLRhoRI",
    "outputId": "657a7926-9a3e-4654-ffe1-97a2ce8aa40e",
    "papermill": {
     "duration": 0.373882,
     "end_time": "2021-04-05T22:20:59.833360",
     "exception": false,
     "start_time": "2021-04-05T22:20:59.459478",
     "status": "completed"
    },
    "tags": []
   },
   "outputs": [
    {
     "data": {
      "text/plain": [
       "RandomForestClassifier()"
      ]
     },
     "execution_count": 37,
     "metadata": {},
     "output_type": "execute_result"
    }
   ],
   "source": [
    "model.fit(x_train,y_train)"
   ]
  },
  {
   "cell_type": "code",
   "execution_count": 38,
   "metadata": {
    "execution": {
     "iopub.execute_input": "2021-04-05T22:20:59.966326Z",
     "iopub.status.busy": "2021-04-05T22:20:59.965599Z",
     "iopub.status.idle": "2021-04-05T22:20:59.995225Z",
     "shell.execute_reply": "2021-04-05T22:20:59.994422Z"
    },
    "id": "2xCXaD70hvBp",
    "papermill": {
     "duration": 0.10021,
     "end_time": "2021-04-05T22:20:59.995382",
     "exception": false,
     "start_time": "2021-04-05T22:20:59.895172",
     "status": "completed"
    },
    "tags": []
   },
   "outputs": [],
   "source": [
    "y_pred = model.predict(x_test)"
   ]
  },
  {
   "cell_type": "code",
   "execution_count": 39,
   "metadata": {
    "execution": {
     "iopub.execute_input": "2021-04-05T22:21:00.141412Z",
     "iopub.status.busy": "2021-04-05T22:21:00.140451Z",
     "iopub.status.idle": "2021-04-05T22:21:00.144757Z",
     "shell.execute_reply": "2021-04-05T22:21:00.144117Z"
    },
    "id": "KPMn5nZ-h98s",
    "outputId": "995fb218-0e68-417f-dfd8-6f610f06d8c2",
    "papermill": {
     "duration": 0.084471,
     "end_time": "2021-04-05T22:21:00.144912",
     "exception": false,
     "start_time": "2021-04-05T22:21:00.060441",
     "status": "completed"
    },
    "tags": []
   },
   "outputs": [
    {
     "name": "stdout",
     "output_type": "stream",
     "text": [
      "[[742  29]\n",
      " [ 25 705]]\n"
     ]
    }
   ],
   "source": [
    "print(confusion_matrix(y_test,y_pred))"
   ]
  },
  {
   "cell_type": "code",
   "execution_count": 40,
   "metadata": {
    "execution": {
     "iopub.execute_input": "2021-04-05T22:21:00.307626Z",
     "iopub.status.busy": "2021-04-05T22:21:00.306832Z",
     "iopub.status.idle": "2021-04-05T22:21:00.312583Z",
     "shell.execute_reply": "2021-04-05T22:21:00.313419Z"
    },
    "id": "kAFMeuu1iDhe",
    "outputId": "3ec9cbfe-ee4a-4ec4-df5f-ea8b4164d9e7",
    "papermill": {
     "duration": 0.09958,
     "end_time": "2021-04-05T22:21:00.313683",
     "exception": false,
     "start_time": "2021-04-05T22:21:00.214103",
     "status": "completed"
    },
    "tags": []
   },
   "outputs": [
    {
     "name": "stdout",
     "output_type": "stream",
     "text": [
      "96.40239840106595\n"
     ]
    }
   ],
   "source": [
    "print(accuracy_score(y_test,y_pred)*100)"
   ]
  },
  {
   "cell_type": "code",
   "execution_count": 41,
   "metadata": {
    "execution": {
     "iopub.execute_input": "2021-04-05T22:21:00.452166Z",
     "iopub.status.busy": "2021-04-05T22:21:00.451484Z",
     "iopub.status.idle": "2021-04-05T22:21:00.465338Z",
     "shell.execute_reply": "2021-04-05T22:21:00.464716Z"
    },
    "papermill": {
     "duration": 0.080748,
     "end_time": "2021-04-05T22:21:00.465499",
     "exception": false,
     "start_time": "2021-04-05T22:21:00.384751",
     "status": "completed"
    },
    "tags": []
   },
   "outputs": [],
   "source": [
    "solution = pd.DataFrame(y_pred)\n",
    "solution.to_csv(\"..//output\")"
   ]
  }
 ],
 "metadata": {
  "kernelspec": {
   "display_name": "Python 3",
   "language": "python",
   "name": "python3"
  },
  "language_info": {
   "codemirror_mode": {
    "name": "ipython",
    "version": 3
   },
   "file_extension": ".py",
   "mimetype": "text/x-python",
   "name": "python",
   "nbconvert_exporter": "python",
   "pygments_lexer": "ipython3",
   "version": "3.8.5"
  },
  "papermill": {
   "default_parameters": {},
   "duration": 20.055879,
   "end_time": "2021-04-05T22:21:01.339087",
   "environment_variables": {},
   "exception": null,
   "input_path": "__notebook__.ipynb",
   "output_path": "__notebook__.ipynb",
   "parameters": {},
   "start_time": "2021-04-05T22:20:41.283208",
   "version": "2.3.2"
  }
 },
 "nbformat": 4,
 "nbformat_minor": 5
}
